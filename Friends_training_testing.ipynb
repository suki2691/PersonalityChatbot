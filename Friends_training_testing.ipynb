{
 "cells": [
  {
   "cell_type": "code",
   "execution_count": 1,
   "metadata": {},
   "outputs": [
    {
     "name": "stderr",
     "output_type": "stream",
     "text": [
      "Using TensorFlow backend.\n"
     ]
    }
   ],
   "source": [
    "from __future__ import print_function\n",
    "from keras.models import Sequential\n",
    "from keras.layers import Dense, Activation\n",
    "from keras.layers import LSTM, Dropout, GRU\n",
    "from keras.callbacks import ModelCheckpoint\n",
    "from keras.optimizers import RMSprop\n",
    "from keras.utils.data_utils import get_file\n",
    "import numpy as np\n",
    "import random\n",
    "import sys\n",
    "import re\n",
    "import codecs\n",
    "import string"
   ]
  },
  {
   "cell_type": "code",
   "execution_count": 2,
   "metadata": {
    "collapsed": true
   },
   "outputs": [],
   "source": [
    "path = filename = \"transcripts/friends_transcript.txt\"\n",
    "with codecs.open(path, encoding='utf-8') as f:\n",
    "    text = f.read().lower()\n",
    "    text = ''.join(filter(string.printable.__contains__,text))\n",
    "    text = re.sub(r'[\\r\\n{}#\"_`]',' ',text.strip())\n",
    "    text = text.strip()"
   ]
  },
  {
   "cell_type": "code",
   "execution_count": 3,
   "metadata": {},
   "outputs": [
    {
     "name": "stdout",
     "output_type": "stream",
     "text": [
      "total chars: 54\n"
     ]
    }
   ],
   "source": [
    "chars = sorted(list(set(text)))\n",
    "print('total chars:', len(chars))\n",
    "char_indices = dict((c, i) for i, c in enumerate(chars))\n",
    "indices_char = dict((i, c) for i, c in enumerate(chars))"
   ]
  },
  {
   "cell_type": "code",
   "execution_count": 4,
   "metadata": {},
   "outputs": [
    {
     "name": "stdout",
     "output_type": "stream",
     "text": [
      "nb sequences: 1261555\n"
     ]
    }
   ],
   "source": [
    "# cut the text in semi-redundant sequences of maxlen characters\n",
    "maxlen = 40\n",
    "step = 3\n",
    "sentences = []\n",
    "next_chars = []\n",
    "for i in range(0, len(text) - maxlen, step):\n",
    "    sentences.append(text[i: i + maxlen])\n",
    "    next_chars.append(text[i + maxlen])\n",
    "print('nb sequences:', len(sentences))"
   ]
  },
  {
   "cell_type": "code",
   "execution_count": 5,
   "metadata": {},
   "outputs": [
    {
     "name": "stdout",
     "output_type": "stream",
     "text": [
      "Vectorization...\n"
     ]
    }
   ],
   "source": [
    "X = np.zeros((len(sentences), maxlen, len(chars)), dtype=np.bool)\n",
    "y = np.zeros((len(sentences), len(chars)), dtype=np.bool)\n",
    "for i, sentence in enumerate(sentences):\n",
    "    for t, char in enumerate(sentence):\n",
    "        X[i, t, char_indices[char]] = 1\n",
    "    y[i, char_indices[next_chars[i]]] = 1"
   ]
  },
  {
   "cell_type": "code",
   "execution_count": 6,
   "metadata": {},
   "outputs": [
    {
     "name": "stdout",
     "output_type": "stream",
     "text": [
      "Build model...\n"
     ]
    }
   ],
   "source": [
    "# build the model: a single LSTM\n",
    "model = Sequential()\n",
    "model.add(LSTM(256, input_shape=(maxlen, len(chars)),return_sequences=True))\n",
    "model.add(LSTM(128,input_shape=(maxlen, len(chars))))\n",
    "model.add(Dense(len(chars)))\n",
    "# filename = \"friends_weights/weights-improvement-00-1.0237-full_data.hdf5\"\n",
    "# model.load_weights(filename)\n",
    "model.add(Activation('softmax'))\n",
    "optimizer = RMSprop(lr=0.001)\n",
    "model.compile(loss='categorical_crossentropy', optimizer=optimizer)"
   ]
  },
  {
   "cell_type": "code",
   "execution_count": 7,
   "metadata": {
    "collapsed": true
   },
   "outputs": [],
   "source": [
    "filepath=\"friends_weights/weights-improvement-{epoch:02d}-{loss:.4f}-full_data.hdf5\"\n",
    "checkpoint = ModelCheckpoint(filepath, monitor='loss', verbose=1, save_best_only=True, mode='min')\n",
    "callbacks_list = [checkpoint]"
   ]
  },
  {
   "cell_type": "code",
   "execution_count": 8,
   "metadata": {
    "collapsed": true
   },
   "outputs": [],
   "source": [
    "def sample(preds, temperature=1.0):\n",
    "    # helper function to sample an index from a probability array\n",
    "    preds = np.asarray(preds).astype('float64')\n",
    "    preds = np.log(preds) / temperature\n",
    "    exp_preds = np.exp(preds)\n",
    "    preds = exp_preds / np.sum(exp_preds)\n",
    "    probas = np.random.multinomial(1, preds, 1)\n",
    "    return np.argmax(probas)"
   ]
  },
  {
   "cell_type": "code",
   "execution_count": null,
   "metadata": {},
   "outputs": [
    {
     "name": "stdout",
     "output_type": "stream",
     "text": [
      "\n",
      "--------------------------------------------------\n",
      "Iteration 1\n",
      "Epoch 1/1\n",
      "1261200/1261555 [============================>.] - ETA: 0s - loss: 1.0391Epoch 00000: loss improved from inf to 1.03908, saving model to friends_weights/weights-improvement-00-1.0391-full_data.hdf5\n",
      "1261555/1261555 [==============================] - 545s - loss: 1.0391   \n",
      "\n",
      "----- diversity: 0.1\n",
      "----- Generating with seed: \"o'   s and... ross:    i'm a four? assis\"\n",
      "o'   s and... ross:    i'm a four? assistant:"
     ]
    },
    {
     "name": "stderr",
     "output_type": "stream",
     "text": [
      "/home/ubuntu/anaconda3/lib/python3.6/site-packages/ipykernel_launcher.py:4: RuntimeWarning: divide by zero encountered in log\n",
      "  after removing the cwd from sys.path.\n"
     ]
    },
    {
     "name": "stdout",
     "output_type": "stream",
     "text": [
      "   oh, i dont know what that i was going to be a little bit down the bathroom.                                        right i was a good time to the couch of the movie. rachel:  oh, i dont know. i mean, i dont know, i don't know what that i was going to be a little bit back.    rachel: oh, i don't know what that i was a good time to me.    ross: well, i dont know what that i was going to go t\n",
      "\n",
      "----- diversity: 0.2\n",
      "----- Generating with seed: \"o'   s and... ross:    i'm a four? assis\"\n",
      "o'   s and... ross:    i'm a four? assistant:   thats a lot of the party and i was gonna be a little bit the best bathroom. rachel:  what? rachel:  oh, i don't know. i mean it's a different trip to the street with the baby and the man and i was all of the time. ross:  oh my god!                                        can the mailman.  rachel:  oh my god! i dont know. i mean it was a second? joey:  what? rachel:  oh my god!   rachel:  oh\n",
      "\n",
      "----- diversity: 0.5\n",
      "----- Generating with seed: \"o'   s and... ross:    i'm a four? assis\"\n",
      "o'   s and... ross:    i'm a four? assistant:  oh my god! what did you think that i love you, when i get one of those side of the baby works. rachel:  oh, wait, what is that the man games up there. chandler:  oh my god! chandler:  look, i guess i should go back to the basies, come on! joey:   okay.    phoebe: ok, we've got the boss on my time in the hands to the phone who to see you and she was like how to go to the christmas card?     \n",
      "\n",
      "----- diversity: 0.6\n",
      "----- Generating with seed: \"o'   s and... ross:    i'm a four? assis\"\n",
      "o'   s and... ross:    i'm a four? assistant:  no! no! i mean we got to do it!  rachel:  yeah, that would be back together. ross:   oh! hi! monica:  that was all over the chance and i really dont get married to phoebe, you're not going to be the countred... rachel:  i just do. i cant believe that youre a great day i dont know what i thought you have to talk to you about them to the little more the other baby. joey:  i spill i feel like \n",
      "\n",
      "----- diversity: 1.0\n",
      "----- Generating with seed: \"o'   s and... ross:    i'm a four? assis\"\n",
      "o'   s and... ross:    i'm a four? assistant:  no, ive get it all to take audites a lot of nusstomic bone was, its like you get all our rate! thats ok, one of all.  rachel:  what i unway. so, would you see it out some of me! joey:  no-no! shive hair. there is just that was amazing and he just called to do us? ross:   ooh, i've got a naked of his viewer, uhm... rachel:   bye. its me, better get just one of you gonna freak your brother? g\n",
      "\n",
      "--------------------------------------------------\n",
      "Iteration 2\n",
      "Epoch 1/1\n",
      "1261200/1261555 [============================>.] - ETA: 0s - loss: 1.0514Epoch 00000: loss did not improve\n",
      "1261555/1261555 [==============================] - 544s - loss: 1.0514   \n",
      "\n",
      "----- diversity: 0.1\n",
      "----- Generating with seed: \"ame starting with  the.  joey:  oh, want\"\n",
      "ame starting with  the.  joey:  oh, wants to go to the baby and then i was thinking about the chair of the baby to the baby to the baby thing that i was a second?    rachel: ok, well, i dont know what the complete him to the baby and then i was a little bit to me. rachel:  oh, i don't know what i was a second?    rachel: what?    rachel: ok, well, i dont know what that i was a little bit to your baby that i was a second?                \n",
      "\n",
      "----- diversity: 0.2\n",
      "----- Generating with seed: \"ame starting with  the.  joey:  oh, want\"\n",
      "ame starting with  the.  joey:  oh, wants to go to the baby and then i was a different thing there is no way you guys took the baby and i was all of the movie were the way that i was a little bit dressed for you. rachel:  oh my god!    ross:  oh my god! you are gonna be there and have to get the same time.    rachel: yeah, i dont know what they dont want to be in the way that i was a little bit to your boyfriend is that i was a little b\n",
      "\n",
      "----- diversity: 0.5\n",
      "----- Generating with seed: \"ame starting with  the.  joey:  oh, want\"\n",
      "ame starting with  the.  joey:  oh, wants to get a sisters, but you know, i mean, i was just dont work in baby baby and brought it to your birthday misseard of your deal. phoebe:  okay, you guys want to do it!  rachel:   oh honey, the baby completely wanted to take the chances the first time you need to talk to me that i don't know that the part and she was a great story. and im sorry. i mean, i just saw my breasts to her of the party. \n",
      "\n",
      "----- diversity: 0.6\n",
      "----- Generating with seed: \"ame starting with  the.  joey:  oh, want\"\n",
      "ame starting with  the.  joey:  oh, wants to go to the art! ross:  hey, i gotta say, i could live a great wingh!  wait a minute. i think its a second? phoebe:  oh, i mean that's the mail.              joey: actually, i see you want me to have a drink and they made something now. rachel:  well, is that how it is a problem! thats not what it is. joey:  what is it?    chandler: well, that is the one have a baby and you put my waiting for m\n",
      "\n",
      "----- diversity: 1.0\n",
      "----- Generating with seed: \"ame starting with  the.  joey:  oh, want\"\n",
      "ame starting with  the.  joey:  oh, want it! rachel : maybe it was 15? monica:  ooh, and this is my special night and then we slecall itlow out! joey:  wait uh, if i burmers and said this came to the gapnt, and im not didn't like to do phoebe. joanna:   no, i'm not supposed to buy your coms, this was not insin woman it and ill have her shouldn't see the ear! two, you know... yeah....   in the name. monica:  no more jurch donals without \n",
      "\n",
      "--------------------------------------------------\n",
      "Iteration 3\n",
      "Epoch 1/1\n",
      "1261200/1261555 [============================>.] - ETA: 0s - loss: 1.1473Epoch 00000: loss did not improve\n",
      "1261555/1261555 [==============================] - 544s - loss: 1.1473   \n",
      "\n",
      "----- diversity: 0.1\n",
      "----- Generating with seed: \" have anything against the beautiful gue\"\n",
      " have anything against the beautiful guest in the baby and then the things are a good thing that i was a good thing that i was a good thing that i was a little bit to be a little bit to be a second? rachel:  oh my god! i can't believe it. i mean, i dont know what to get a little good thing that i was thinking about that stuff to the baby to the baby and then i was thinking about the baby and then i was going to be a little bit that i wa\n",
      "\n",
      "----- diversity: 0.2\n",
      "----- Generating with seed: \" have anything against the beautiful gue\"\n",
      " have anything against the beautiful guest that i was a little bit to the baby to the party and the stripper to be a little bit before i was the best you want to be a problem and i was a favorite buttons with the baby and then i got the baby and a little bit all the plane and then i was just gonna get married to the baby and she was so sorventer and i want to get a little bit because i just don't have to get a little bit because i was s\n",
      "\n",
      "----- diversity: 0.5\n",
      "----- Generating with seed: \" have anything against the beautiful gue\"\n",
      " have anything against the beautiful guest of stuff is funny, and i don't know what i didn't get a little second party, i didnt like to say he told me that i was gonna get the big love and there was a little bit and i think its moving to a money? monica:  thanks for a coming in the tennie and a wedding cards! rachel:  you know what you should get my life and then we should get a problem. joey:  yeah, i don't know what they dont know the\n",
      "\n",
      "----- diversity: 0.6\n",
      "----- Generating with seed: \" have anything against the beautiful gue\"\n",
      " have anything against the beautiful guest. rachel:  hey! joey:  i know. ross:  what?           monica: okay, i dont know, i mean, it was coming with him monica, you can be a little bit to the little guy and giving me in the first time tomorrow. you go to the altake. i mean, you know what i counted a fault. monica:   she's not nice have an engagement before i say you have to get in the first staring through, i like it any of you told yo\n",
      "\n",
      "----- diversity: 1.0\n",
      "----- Generating with seed: \" have anything against the beautiful gue\"\n",
      " have anything against the beautiful guestian? little ladaey, its just-uh, is for me. yeah, those said, alror   in a porn drop in theit-backward more since why, she-she hadnt dedib. gavin: well, she's only called up with her that you guys leave life.  all right, before my guy. sorry i can do it! yeah, im gonna get work guy in the loowing of fassigla. oh god, and get ross?! rachel: i care at name. and i'll do like to do was a good favori\n",
      "\n",
      "--------------------------------------------------\n",
      "Iteration 4\n",
      "Epoch 1/1\n",
      " 216000/1261555 [====>.........................] - ETA: 450s - loss: 1.0401"
     ]
    }
   ],
   "source": [
    "# train the model, output generated text after each iteration\n",
    "for iteration in range(1, 60):\n",
    "    print()\n",
    "    print('-' * 50)\n",
    "    print('Iteration', iteration)\n",
    "    model.fit(X, y,batch_size=1200,epochs=1,callbacks=callbacks_list)\n",
    "\n",
    "    start_index = random.randint(0, len(text) - maxlen - 1)\n",
    "\n",
    "    for diversity in [0.1,0.2, 0.5, 0.6,1.0]:\n",
    "        print()\n",
    "        print('----- diversity:', diversity)\n",
    "\n",
    "        generated = ''\n",
    "        sentence = text[start_index: start_index + maxlen]\n",
    "        generated += sentence\n",
    "        print('----- Generating with seed: \"' + sentence + '\"')\n",
    "        sys.stdout.write(generated)\n",
    "\n",
    "        for i in range(400):\n",
    "            x = np.zeros((1, maxlen, len(chars)))\n",
    "            for t, char in enumerate(sentence):\n",
    "                x[0, t, char_indices[char]] = 1.\n",
    "\n",
    "            preds = model.predict(x, verbose=0)[0]\n",
    "            next_index = sample(preds, diversity)\n",
    "            next_char = indices_char[next_index]\n",
    "\n",
    "            generated += next_char\n",
    "            sentence = sentence[1:] + next_char\n",
    "\n",
    "            sys.stdout.write(next_char)\n",
    "            sys.stdout.flush()\n",
    "        print()"
   ]
  },
  {
   "cell_type": "code",
   "execution_count": null,
   "metadata": {
    "collapsed": true
   },
   "outputs": [],
   "source": []
  }
 ],
 "metadata": {
  "kernelspec": {
   "display_name": "Python 3",
   "language": "python",
   "name": "python3"
  },
  "language_info": {
   "codemirror_mode": {
    "name": "ipython",
    "version": 3
   },
   "file_extension": ".py",
   "mimetype": "text/x-python",
   "name": "python",
   "nbconvert_exporter": "python",
   "pygments_lexer": "ipython3",
   "version": "3.6.1"
  }
 },
 "nbformat": 4,
 "nbformat_minor": 2
}
