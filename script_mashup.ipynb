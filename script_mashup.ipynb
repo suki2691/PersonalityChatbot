{
 "cells": [
  {
   "cell_type": "code",
   "execution_count": 2,
   "metadata": {
    "collapsed": true
   },
   "outputs": [],
   "source": [
    "from __future__ import print_function\n",
    "from keras.models import Sequential\n",
    "from keras.layers import Dense, Activation, merge, Input\n",
    "from keras.layers import LSTM, Dropout, GRU\n",
    "from keras.callbacks import ModelCheckpoint\n",
    "from keras.optimizers import RMSprop\n",
    "from keras.utils.data_utils import get_file\n",
    "import numpy as np\n",
    "import random\n",
    "import sys\n",
    "import re\n",
    "import string\n",
    "import codecs"
   ]
  },
  {
   "cell_type": "markdown",
   "metadata": {},
   "source": [
    "## Friends dataset"
   ]
  },
  {
   "cell_type": "code",
   "execution_count": 2,
   "metadata": {
    "collapsed": true
   },
   "outputs": [],
   "source": [
    "path = filename = \"transcripts/friends_transcript.txt\"\n",
    "text_left = open(path).read().lower()\n",
    "text_left = ''.join(filter(string.printable.__contains__,text_left))\n",
    "text_left = re.sub(r'[\\r\\n{}#\"_`]',' ',text_left.strip())\n",
    "text_left = text_left.strip()\n",
    "chars_left = sorted(list(set(text_left)))"
   ]
  },
  {
   "cell_type": "code",
   "execution_count": 3,
   "metadata": {},
   "outputs": [
    {
     "data": {
      "text/plain": [
       "54"
      ]
     },
     "execution_count": 3,
     "metadata": {},
     "output_type": "execute_result"
    }
   ],
   "source": [
    "len(chars_left)"
   ]
  },
  {
   "cell_type": "markdown",
   "metadata": {},
   "source": [
    "## TBBT dataset"
   ]
  },
  {
   "cell_type": "code",
   "execution_count": 23,
   "metadata": {
    "collapsed": true
   },
   "outputs": [],
   "source": [
    "path = filename = \"transcripts/tbbt_transcript.txt\"\n",
    "text_right = open(path).read().lower()\n",
    "text_right = ''.join(filter(string.printable.__contains__,text_right))\n",
    "text_right = re.sub(r'[\\n\\xa0]',' ',text_right.strip())\n",
    "chars_right = sorted(list(set(text_right)))"
   ]
  },
  {
   "cell_type": "code",
   "execution_count": 24,
   "metadata": {},
   "outputs": [
    {
     "data": {
      "text/plain": [
       "54"
      ]
     },
     "execution_count": 24,
     "metadata": {},
     "output_type": "execute_result"
    }
   ],
   "source": [
    "len(chars_right)"
   ]
  },
  {
   "cell_type": "code",
   "execution_count": 3,
   "metadata": {
    "collapsed": true
   },
   "outputs": [],
   "source": [
    "def vectorization(text,chars):\n",
    "    print('total chars:', len(chars))\n",
    "    char_indices = dict((c, i) for i, c in enumerate(chars))\n",
    "    indices_char = dict((i, c) for i, c in enumerate(chars))\n",
    "\n",
    "    # cut the text in semi-redundant sequences of maxlen characters\n",
    "    maxlen = 40\n",
    "    step = 3\n",
    "    sentences = []\n",
    "    next_chars = []\n",
    "    for i in range(0, len(text) - maxlen, step):\n",
    "        sentences.append(text[i: i + maxlen])\n",
    "        next_chars.append(text[i + maxlen])\n",
    "    print('nb sequences:', len(sentences))\n",
    "    return maxlen, char_indices, indices_char"
   ]
  },
  {
   "cell_type": "code",
   "execution_count": 28,
   "metadata": {},
   "outputs": [
    {
     "name": "stdout",
     "output_type": "stream",
     "text": [
      "total chars: 54\n",
      "nb sequences: 1261555\n",
      "total chars: 54\n",
      "nb sequences: 1133085\n"
     ]
    }
   ],
   "source": [
    "maxlen, char_indices_left, indices_char_left = vectorization(text_left, chars_left)\n",
    "maxlen, char_indices_right, indices_char_right = vectorization(text_right, chars_right)"
   ]
  },
  {
   "cell_type": "code",
   "execution_count": 29,
   "metadata": {
    "collapsed": true
   },
   "outputs": [],
   "source": [
    "left = Sequential()\n",
    "left.add(LSTM(256, input_shape=(maxlen, len(chars_left)),return_sequences=True))\n",
    "left.add(LSTM(128, input_shape=(maxlen, len(chars_left))))\n",
    "left.add(Dense(len(chars_left)))\n",
    "left.add(Activation('softmax'))\n",
    "filename = \"friends_weights/weights-improvement-00-1.0237-full_data.hdf5\"\n",
    "left.load_weights(filename)\n",
    "optimizer = RMSprop(lr=0.0001)\n",
    "left.compile(loss='categorical_crossentropy', optimizer=optimizer)\n",
    "\n",
    "right = Sequential()\n",
    "right.add(LSTM(256, input_shape=(maxlen, len(chars_right)),return_sequences=True))\n",
    "right.add(LSTM(128, input_shape=(maxlen, len(chars_right))))\n",
    "right.add(Dense(len(chars_right)))\n",
    "right.add(Activation('softmax'))\n",
    "filename = \"tbbt_weights/weights-improvement-00-0.9772-full_data_700.hdf5\"\n",
    "right.load_weights(filename)\n",
    "optimizer = RMSprop(lr=0.001)\n",
    "right.compile(loss='categorical_crossentropy', optimizer=optimizer)"
   ]
  },
  {
   "cell_type": "code",
   "execution_count": 4,
   "metadata": {
    "collapsed": true
   },
   "outputs": [],
   "source": [
    "def sample(preds, temperature=1.0):\n",
    "    '''helper function to sample an index from a probability array'''\n",
    "    \n",
    "    preds = np.asarray(preds).astype('float64')\n",
    "    preds = np.log(preds) / temperature\n",
    "    exp_preds = np.exp(preds)\n",
    "    preds = exp_preds / np.sum(exp_preds)\n",
    "    probas = np.random.multinomial(1, preds, 1)\n",
    "    return np.argmax(probas)"
   ]
  },
  {
   "cell_type": "code",
   "execution_count": 26,
   "metadata": {
    "collapsed": true
   },
   "outputs": [],
   "source": [
    "def text_gen(sentence, model, chars, char_indices, indices_char, maxlen=40):\n",
    "    '''Function prints dialogues, predicted one character (letter) at a time'''\n",
    "    \n",
    "    generated = ''\n",
    "    generated += sentence\n",
    "    for i in range(100):\n",
    "        x = np.zeros((1, maxlen, len(chars)))\n",
    "\n",
    "        for t, char in enumerate(sentence):\n",
    "            x[0, t, char_indices[char]] = 1.\n",
    "\n",
    "\n",
    "        preds = model.predict(x, verbose=0)[0]\n",
    "        next_index = sample(preds, 0.6)\n",
    "        next_char = indices_char[next_index]\n",
    "\n",
    "        generated += next_char\n",
    "        sentence = sentence[1:] + next_char\n",
    "\n",
    "        sys.stdout.write(next_char)\n",
    "        sys.stdout.flush()\n",
    "    print()\n",
    "    return sentence"
   ]
  },
  {
   "cell_type": "markdown",
   "metadata": {},
   "source": [
    "# Script mashup"
   ]
  },
  {
   "cell_type": "code",
   "execution_count": 33,
   "metadata": {},
   "outputs": [
    {
     "name": "stdout",
     "output_type": "stream",
     "text": [
      "t, and "
     ]
    },
    {
     "name": "stderr",
     "output_type": "stream",
     "text": [
      "/home/ubuntu/anaconda3/lib/python3.6/site-packages/ipykernel_launcher.py:4: RuntimeWarning: divide by zero encountered in log\n",
      "  after removing the cwd from sys.path.\n"
     ]
    },
    {
     "name": "stdout",
     "output_type": "stream",
     "text": [
      "i was just a couple of cleans in the matter with me? rachel:  so you were there and get the casting here for a good time you were right.    joey: alright monica, i was thinking about you? monica:  hey! joey:  yeah! ross:  okay, i got you to wear, they have to be the work on a fine, i like her and be in england  and then i can be a girls doesn't seem some kind of best friends all the time is\n",
      " my way to see how to do the season and the end of the train of lithers and player and do it and also reading a bad jerk for the store astronaut. leonard: i dont know what to get to be a bad guiders. we can be able to have a solution of his signation of the warm discovery like a little connection. leonard: thats the strange equive company. amy: i think were not an actual time. i was sure youre try\n",
      "ing to let you see the coffee. ross:  oh i thought i love you out of my life.    rachel: i know. i mean, i want to get me for a little buttomera.    rachel: you look good, just be pregnant and they just got this foad that now i was gonna happen to me. its so sure i have to tell her that completely right now.  she's not in the way i think you were going to the bathroom. rachel:  what? ross:   yes. \n",
      "i sleep in the birth, but i wasnt the one who thinks the two of them is. leonard: all right, sheldon, im sorry, i dont know if you could tell you, theres a little score of the other star wars in the apartment. leonard: you had a comic book right now. sheldon: youre right, its not a little contract to see the frodogilations of the smile of the stress and the bed, we first come back on the train boy\n",
      "friend is now for you.    monica: what? i mean, i know i was thinking about the chair of the plates. joey:  yeah i just got a girl? rachel:  oh my god, thats just the wedding baby to do it. phoebe:  well, i can see who wants to wait a second and we get to take a party.                                        roger? ross:  what?                                   here and he told you to be with him a\n",
      "fter the president of the shach1day party. sheldon: i see your bossect to a train to dis a shup from the bathroom and some stuff with the train of time to get the back of the teacting and the answer to the fact that i could be married. amy: why do you see them anyone doing? leonard: i dont know what to do. sheldon: i dont think she said you can get it. amy: what do you mean? sheldon: yes, but i ca\n",
      "nt believe i had the world. rachel:  you would do that. chandler:  what are you gonna do? joey:  yeah, i want you to get you a second. ross:   so what're you gonna go out of the time we'll be looking for the tickets and you know, it was the bathroom. chandler:  yeah, i just want to leave them for a second? joey:   oh my god! you dont have a problem about that. ross:  i love you about the phone wil\n",
      "l be a couple. howard: oh, uh, if you were talking about the conference to some time frat. raj: oh, i dont know what to do. amy: oh, i was leaving them on a couple for what? leonard: i think its a big deal.  leonard: i know what you dont know that i cant believe it. scene: a baby. sheldon: i am now contentioned on a coold-clue and the big characters of my board with your toilet. leonard: maybe we \n",
      "should take her to the starts at your face someone is going to talk to me.          susie: but i dont know what that is a cookies.    ross: what? rachel:   hey, you are not gonna be a problem and you want to make a cup. look, i have to have to get in the most and i was a hair is my face the whole        supposed to be going it and i need to get out of the window may here with the business of my bl\n",
      "ink in the universe to a fear of the car standor material. penny: what? leonard: for the room.  leonard: oh, youre a good time. penny: im sorry, im coming for your time. she"
     ]
    }
   ],
   "source": [
    "try:\n",
    "    generated = ''\n",
    "    start_index = random.randint(0, len(text_left) - maxlen - 1)\n",
    "    sentence = text_left[start_index: start_index + maxlen]\n",
    "    sys.stdout.write(generated)\n",
    "    while True:\n",
    "        sentence_left = text_gen(sentence, left, chars_left, char_indices_left, indices_char_left)\n",
    "        sentence_right = text_gen(sentence_left, right, chars_right, char_indices_right, indices_char_right)\n",
    "        sentence = sentence_right\n",
    "except KeyboardInterrupt:\n",
    "    pass"
   ]
  },
  {
   "cell_type": "markdown",
   "metadata": {
    "collapsed": true
   },
   "source": [
    "# Talking to Joey"
   ]
  },
  {
   "cell_type": "code",
   "execution_count": 6,
   "metadata": {
    "collapsed": true
   },
   "outputs": [],
   "source": [
    "path = \"friends_characters/joey_dialogues.txt\"\n",
    "with codecs.open(path, encoding='utf-8') as f:\n",
    "    text = f.read().lower()\n",
    "    text = ''.join(filter(string.printable.__contains__,text))\n",
    "#     text = re.sub(r'\\n',' ',text.strip())\n",
    "    text = text.strip()"
   ]
  },
  {
   "cell_type": "code",
   "execution_count": 7,
   "metadata": {
    "collapsed": true
   },
   "outputs": [],
   "source": [
    "chars = sorted(list(set(text)))"
   ]
  },
  {
   "cell_type": "code",
   "execution_count": 8,
   "metadata": {},
   "outputs": [
    {
     "name": "stdout",
     "output_type": "stream",
     "text": [
      "total chars: 52\n",
      "nb sequences: 137149\n"
     ]
    }
   ],
   "source": [
    "maxlen, char_indices, indices_char = vectorization(text, chars)"
   ]
  },
  {
   "cell_type": "code",
   "execution_count": 10,
   "metadata": {
    "collapsed": true
   },
   "outputs": [],
   "source": [
    "left = Sequential()\n",
    "left.add(LSTM(256, input_shape=(maxlen, len(chars)),return_sequences=True))\n",
    "left.add(LSTM(128, input_shape=(maxlen, len(chars))))\n",
    "left.add(Dense(len(chars)))\n",
    "left.add(Activation('softmax'))\n",
    "filename = 'friends_weights/weights-improvement-00-0.3446-joey.hdf5'\n",
    "left.load_weights(filename)\n",
    "optimizer = RMSprop(lr=0.001)\n",
    "left.compile(loss='categorical_crossentropy', optimizer=optimizer)"
   ]
  },
  {
   "cell_type": "code",
   "execution_count": 1,
   "metadata": {
    "collapsed": true
   },
   "outputs": [],
   "source": [
    "sentence = 'hey joey how are you doing?'"
   ]
  },
  {
   "cell_type": "code",
   "execution_count": 2,
   "metadata": {},
   "outputs": [
    {
     "data": {
      "text/plain": [
       "27"
      ]
     },
     "execution_count": 2,
     "metadata": {},
     "output_type": "execute_result"
    }
   ],
   "source": [
    "len(sentence)"
   ]
  },
  {
   "cell_type": "code",
   "execution_count": 3,
   "metadata": {
    "collapsed": true
   },
   "outputs": [],
   "source": [
    "if len(sentence) < 40:\n",
    "    sentence += (40-len(sentence))*' '"
   ]
  },
  {
   "cell_type": "code",
   "execution_count": 4,
   "metadata": {},
   "outputs": [
    {
     "data": {
      "text/plain": [
       "'hey joey how are you doing?             '"
      ]
     },
     "execution_count": 4,
     "metadata": {},
     "output_type": "execute_result"
    }
   ],
   "source": [
    "sentence"
   ]
  },
  {
   "cell_type": "code",
   "execution_count": null,
   "metadata": {},
   "outputs": [
    {
     "name": "stdout",
     "output_type": "stream",
     "text": [
      "ight ev"
     ]
    },
    {
     "name": "stderr",
     "output_type": "stream",
     "text": [
      "/home/ubuntu/anaconda3/lib/python3.6/site-packages/ipykernel_launcher.py:5: RuntimeWarning: divide by zero encountered in log\n",
      "  \"\"\"\n"
     ]
    },
    {
     "name": "stdout",
     "output_type": "stream",
     "text": [
      "er gonna get to meet the thing. im after thing out of the cares?\n",
      "oh well you got it.  we c"
     ]
    }
   ],
   "source": [
    "text_gen(sentence, left, chars, char_indices, indices_char)"
   ]
  },
  {
   "cell_type": "code",
   "execution_count": null,
   "metadata": {
    "collapsed": true
   },
   "outputs": [],
   "source": []
  }
 ],
 "metadata": {
  "kernelspec": {
   "display_name": "Python 3",
   "language": "python",
   "name": "python3"
  },
  "language_info": {
   "codemirror_mode": {
    "name": "ipython",
    "version": 3
   },
   "file_extension": ".py",
   "mimetype": "text/x-python",
   "name": "python",
   "nbconvert_exporter": "python",
   "pygments_lexer": "ipython3",
   "version": "3.6.1"
  }
 },
 "nbformat": 4,
 "nbformat_minor": 2
}
